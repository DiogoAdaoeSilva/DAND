{
 "cells": [
  {
   "cell_type": "markdown",
   "metadata": {
    "collapsed": true
   },
   "source": [
    "# Udacity Data Analyst Nanodegree\n",
    "\n",
    "# P2: Investigate the Titanic dataset\n",
    "\n",
    "Date: 14.11.2017<br>\n",
    "Author: Diogo Adão e Silva"
   ]
  },
  {
   "cell_type": "markdown",
   "metadata": {},
   "source": [
    "## Context\n",
    "This notebook is my project 'Investigate a dataset' submission. Delivering this project is one of the requirements of Udacity's [Data Analyst Nanodegree](https://www.udacity.com/course/data-analyst-nanodegree--nd002). By successfully completing this project, Udacity students demonstrate they know how to go through the entire data analysis process.\n",
    "\n",
    "## Structure\n",
    "To start, a quick background on the Titanic is given. Next, the goal of the project is set, followed by an introduction to the dataset. The following step is the exploratory data analysis. Next is hypotheses testing and finally, conclusions are drawn."
   ]
  },
  {
   "cell_type": "markdown",
   "metadata": {},
   "source": [
    "## Background\n",
    "The sinking of the RMS Titanic in April 1912 is one of the most well-known shipwrecks in history. **The Titanic sailed with 2,208 passengers and crew**<sup>1</sup> on April 1912 from Southampton, England. Four days later she collided with an iceberg and sank, leading to the **death of 1496 people**<sup>1</sup>. The Titanic continues to fascinate people up to our day, there is extensive information related to the shipwreck online (eg. [here](https://www.encyclopedia-titanica.org)) and there is even a full-sized replica currently under construction in China."
   ]
  },
  {
   "cell_type": "markdown",
   "metadata": {},
   "source": [
    "![alt text](https://raw.githubusercontent.com/DiogoAdaoeSilva/DAND/master/p2/Titanic-departing-1912.jpg \"Titanic departing 1912\")\n",
    "\n",
    "*<center>Titanic departing in 1912 - Source: oldpicsarchive.com</center>*"
   ]
  },
  {
   "cell_type": "markdown",
   "metadata": {},
   "source": [
    "# Question Phase"
   ]
  },
  {
   "cell_type": "markdown",
   "metadata": {
    "collapsed": true
   },
   "source": [
    "The goal of the project is to:\n",
    "\n",
    "1. Determine which factors made Titanic passengers more likely to survive\n",
    "2. Provide an overview of the demographics of the passengers in the dataset\n",
    "3. Draw conclusions about the relationships between passenger sex, class and the likelihood of surviving a shipwreck\n",
    "\n",
    "The following variables are analyzed:\n",
    "    - Class\n",
    "    - Sex\n",
    "    - Age\n",
    "    - Embark location\n",
    "    - Travelling with a relative (sibling, spouse, parent or children)\n",
    "    - Fare\n",
    "    - Passengers with the same ticket"
   ]
  },
  {
   "cell_type": "markdown",
   "metadata": {},
   "source": [
    "# Wrangling Phase"
   ]
  },
  {
   "cell_type": "markdown",
   "metadata": {},
   "source": [
    "## Dataset Aquisition"
   ]
  },
  {
   "cell_type": "markdown",
   "metadata": {},
   "source": [
    "The curated dataset for the project contains demographics from 891 passengers and crew on board the RMS Titanic. It was downloaded from Udacity, which obtained it on [Kaggle](https://www.kaggle.com/c/titanic/data), where the full dataset and a more detailed description can be found.\n",
    "\n",
    "The Titanic dataset is very popular and suited for those getting started with data science and machine learning. Just at Kaggle, over 9,000 teams have participated in the Titanic competition."
   ]
  },
  {
   "cell_type": "code",
   "execution_count": 1,
   "metadata": {
    "collapsed": true
   },
   "outputs": [],
   "source": [
    "# upload the csv\n",
    "import pandas as pd\n",
    "titanic_df = pd.read_csv('titanic-data.csv')"
   ]
  },
  {
   "cell_type": "code",
   "execution_count": 2,
   "metadata": {
    "scrolled": true
   },
   "outputs": [
    {
     "data": {
      "text/html": [
       "<div>\n",
       "<style>\n",
       "    .dataframe thead tr:only-child th {\n",
       "        text-align: right;\n",
       "    }\n",
       "\n",
       "    .dataframe thead th {\n",
       "        text-align: left;\n",
       "    }\n",
       "\n",
       "    .dataframe tbody tr th {\n",
       "        vertical-align: top;\n",
       "    }\n",
       "</style>\n",
       "<table border=\"1\" class=\"dataframe\">\n",
       "  <thead>\n",
       "    <tr style=\"text-align: right;\">\n",
       "      <th></th>\n",
       "      <th>PassengerId</th>\n",
       "      <th>Survived</th>\n",
       "      <th>Pclass</th>\n",
       "      <th>Name</th>\n",
       "      <th>Sex</th>\n",
       "      <th>Age</th>\n",
       "      <th>SibSp</th>\n",
       "      <th>Parch</th>\n",
       "      <th>Ticket</th>\n",
       "      <th>Fare</th>\n",
       "      <th>Cabin</th>\n",
       "      <th>Embarked</th>\n",
       "    </tr>\n",
       "  </thead>\n",
       "  <tbody>\n",
       "    <tr>\n",
       "      <th>0</th>\n",
       "      <td>1</td>\n",
       "      <td>0</td>\n",
       "      <td>3</td>\n",
       "      <td>Braund, Mr. Owen Harris</td>\n",
       "      <td>male</td>\n",
       "      <td>22.0</td>\n",
       "      <td>1</td>\n",
       "      <td>0</td>\n",
       "      <td>A/5 21171</td>\n",
       "      <td>7.2500</td>\n",
       "      <td>NaN</td>\n",
       "      <td>S</td>\n",
       "    </tr>\n",
       "    <tr>\n",
       "      <th>1</th>\n",
       "      <td>2</td>\n",
       "      <td>1</td>\n",
       "      <td>1</td>\n",
       "      <td>Cumings, Mrs. John Bradley (Florence Briggs Th...</td>\n",
       "      <td>female</td>\n",
       "      <td>38.0</td>\n",
       "      <td>1</td>\n",
       "      <td>0</td>\n",
       "      <td>PC 17599</td>\n",
       "      <td>71.2833</td>\n",
       "      <td>C85</td>\n",
       "      <td>C</td>\n",
       "    </tr>\n",
       "    <tr>\n",
       "      <th>2</th>\n",
       "      <td>3</td>\n",
       "      <td>1</td>\n",
       "      <td>3</td>\n",
       "      <td>Heikkinen, Miss. Laina</td>\n",
       "      <td>female</td>\n",
       "      <td>26.0</td>\n",
       "      <td>0</td>\n",
       "      <td>0</td>\n",
       "      <td>STON/O2. 3101282</td>\n",
       "      <td>7.9250</td>\n",
       "      <td>NaN</td>\n",
       "      <td>S</td>\n",
       "    </tr>\n",
       "    <tr>\n",
       "      <th>3</th>\n",
       "      <td>4</td>\n",
       "      <td>1</td>\n",
       "      <td>1</td>\n",
       "      <td>Futrelle, Mrs. Jacques Heath (Lily May Peel)</td>\n",
       "      <td>female</td>\n",
       "      <td>35.0</td>\n",
       "      <td>1</td>\n",
       "      <td>0</td>\n",
       "      <td>113803</td>\n",
       "      <td>53.1000</td>\n",
       "      <td>C123</td>\n",
       "      <td>S</td>\n",
       "    </tr>\n",
       "    <tr>\n",
       "      <th>4</th>\n",
       "      <td>5</td>\n",
       "      <td>0</td>\n",
       "      <td>3</td>\n",
       "      <td>Allen, Mr. William Henry</td>\n",
       "      <td>male</td>\n",
       "      <td>35.0</td>\n",
       "      <td>0</td>\n",
       "      <td>0</td>\n",
       "      <td>373450</td>\n",
       "      <td>8.0500</td>\n",
       "      <td>NaN</td>\n",
       "      <td>S</td>\n",
       "    </tr>\n",
       "  </tbody>\n",
       "</table>\n",
       "</div>"
      ],
      "text/plain": [
       "   PassengerId  Survived  Pclass  \\\n",
       "0            1         0       3   \n",
       "1            2         1       1   \n",
       "2            3         1       3   \n",
       "3            4         1       1   \n",
       "4            5         0       3   \n",
       "\n",
       "                                                Name     Sex   Age  SibSp  \\\n",
       "0                            Braund, Mr. Owen Harris    male  22.0      1   \n",
       "1  Cumings, Mrs. John Bradley (Florence Briggs Th...  female  38.0      1   \n",
       "2                             Heikkinen, Miss. Laina  female  26.0      0   \n",
       "3       Futrelle, Mrs. Jacques Heath (Lily May Peel)  female  35.0      1   \n",
       "4                           Allen, Mr. William Henry    male  35.0      0   \n",
       "\n",
       "   Parch            Ticket     Fare Cabin Embarked  \n",
       "0      0         A/5 21171   7.2500   NaN        S  \n",
       "1      0          PC 17599  71.2833   C85        C  \n",
       "2      0  STON/O2. 3101282   7.9250   NaN        S  \n",
       "3      0            113803  53.1000  C123        S  \n",
       "4      0            373450   8.0500   NaN        S  "
      ]
     },
     "execution_count": 2,
     "metadata": {},
     "output_type": "execute_result"
    }
   ],
   "source": [
    "# preview dataframe\n",
    "titanic_df.head()"
   ]
  },
  {
   "cell_type": "code",
   "execution_count": 3,
   "metadata": {},
   "outputs": [
    {
     "data": {
      "text/plain": [
       "(891, 12)"
      ]
     },
     "execution_count": 3,
     "metadata": {},
     "output_type": "execute_result"
    }
   ],
   "source": [
    "# dimensions of dataframe\n",
    "titanic_df.shape"
   ]
  },
  {
   "cell_type": "code",
   "execution_count": 4,
   "metadata": {},
   "outputs": [
    {
     "data": {
      "text/html": [
       "<style  type=\"text/css\" >\n",
       "    #T_8bcd2f7a_c936_11e7_971b_dca904728c1frow0_col5 {\n",
       "            background-color:  yellow;\n",
       "        }    #T_8bcd2f7a_c936_11e7_971b_dca904728c1frow0_col10 {\n",
       "            background-color:  yellow;\n",
       "        }    #T_8bcd2f7a_c936_11e7_971b_dca904728c1frow0_col11 {\n",
       "            background-color:  yellow;\n",
       "        }    #T_8bcd2f7a_c936_11e7_971b_dca904728c1frow6_col9 {\n",
       "            background-color:  yellow;\n",
       "        }</style>  \n",
       "<table id=\"T_8bcd2f7a_c936_11e7_971b_dca904728c1f\" > \n",
       "<thead>    <tr> \n",
       "        <th class=\"blank level0\" ></th> \n",
       "        <th class=\"col_heading level0 col0\" >PassengerId</th> \n",
       "        <th class=\"col_heading level0 col1\" >Survived</th> \n",
       "        <th class=\"col_heading level0 col2\" >Pclass</th> \n",
       "        <th class=\"col_heading level0 col3\" >Name</th> \n",
       "        <th class=\"col_heading level0 col4\" >Sex</th> \n",
       "        <th class=\"col_heading level0 col5\" >Age</th> \n",
       "        <th class=\"col_heading level0 col6\" >SibSp</th> \n",
       "        <th class=\"col_heading level0 col7\" >Parch</th> \n",
       "        <th class=\"col_heading level0 col8\" >Ticket</th> \n",
       "        <th class=\"col_heading level0 col9\" >Fare</th> \n",
       "        <th class=\"col_heading level0 col10\" >Cabin</th> \n",
       "        <th class=\"col_heading level0 col11\" >Embarked</th> \n",
       "    </tr></thead> \n",
       "<tbody>    <tr> \n",
       "        <th id=\"T_8bcd2f7a_c936_11e7_971b_dca904728c1f\" class=\"row_heading level0 row0\" >count</th> \n",
       "        <td id=\"T_8bcd2f7a_c936_11e7_971b_dca904728c1frow0_col0\" class=\"data row0 col0\" >891</td> \n",
       "        <td id=\"T_8bcd2f7a_c936_11e7_971b_dca904728c1frow0_col1\" class=\"data row0 col1\" >891</td> \n",
       "        <td id=\"T_8bcd2f7a_c936_11e7_971b_dca904728c1frow0_col2\" class=\"data row0 col2\" >891</td> \n",
       "        <td id=\"T_8bcd2f7a_c936_11e7_971b_dca904728c1frow0_col3\" class=\"data row0 col3\" >891</td> \n",
       "        <td id=\"T_8bcd2f7a_c936_11e7_971b_dca904728c1frow0_col4\" class=\"data row0 col4\" >891</td> \n",
       "        <td id=\"T_8bcd2f7a_c936_11e7_971b_dca904728c1frow0_col5\" class=\"data row0 col5\" >714</td> \n",
       "        <td id=\"T_8bcd2f7a_c936_11e7_971b_dca904728c1frow0_col6\" class=\"data row0 col6\" >891</td> \n",
       "        <td id=\"T_8bcd2f7a_c936_11e7_971b_dca904728c1frow0_col7\" class=\"data row0 col7\" >891</td> \n",
       "        <td id=\"T_8bcd2f7a_c936_11e7_971b_dca904728c1frow0_col8\" class=\"data row0 col8\" >891</td> \n",
       "        <td id=\"T_8bcd2f7a_c936_11e7_971b_dca904728c1frow0_col9\" class=\"data row0 col9\" >891</td> \n",
       "        <td id=\"T_8bcd2f7a_c936_11e7_971b_dca904728c1frow0_col10\" class=\"data row0 col10\" >204</td> \n",
       "        <td id=\"T_8bcd2f7a_c936_11e7_971b_dca904728c1frow0_col11\" class=\"data row0 col11\" >889</td> \n",
       "    </tr>    <tr> \n",
       "        <th id=\"T_8bcd2f7a_c936_11e7_971b_dca904728c1f\" class=\"row_heading level0 row1\" >unique</th> \n",
       "        <td id=\"T_8bcd2f7a_c936_11e7_971b_dca904728c1frow1_col0\" class=\"data row1 col0\" >nan</td> \n",
       "        <td id=\"T_8bcd2f7a_c936_11e7_971b_dca904728c1frow1_col1\" class=\"data row1 col1\" >nan</td> \n",
       "        <td id=\"T_8bcd2f7a_c936_11e7_971b_dca904728c1frow1_col2\" class=\"data row1 col2\" >nan</td> \n",
       "        <td id=\"T_8bcd2f7a_c936_11e7_971b_dca904728c1frow1_col3\" class=\"data row1 col3\" >891</td> \n",
       "        <td id=\"T_8bcd2f7a_c936_11e7_971b_dca904728c1frow1_col4\" class=\"data row1 col4\" >2</td> \n",
       "        <td id=\"T_8bcd2f7a_c936_11e7_971b_dca904728c1frow1_col5\" class=\"data row1 col5\" >nan</td> \n",
       "        <td id=\"T_8bcd2f7a_c936_11e7_971b_dca904728c1frow1_col6\" class=\"data row1 col6\" >nan</td> \n",
       "        <td id=\"T_8bcd2f7a_c936_11e7_971b_dca904728c1frow1_col7\" class=\"data row1 col7\" >nan</td> \n",
       "        <td id=\"T_8bcd2f7a_c936_11e7_971b_dca904728c1frow1_col8\" class=\"data row1 col8\" >681</td> \n",
       "        <td id=\"T_8bcd2f7a_c936_11e7_971b_dca904728c1frow1_col9\" class=\"data row1 col9\" >nan</td> \n",
       "        <td id=\"T_8bcd2f7a_c936_11e7_971b_dca904728c1frow1_col10\" class=\"data row1 col10\" >147</td> \n",
       "        <td id=\"T_8bcd2f7a_c936_11e7_971b_dca904728c1frow1_col11\" class=\"data row1 col11\" >3</td> \n",
       "    </tr>    <tr> \n",
       "        <th id=\"T_8bcd2f7a_c936_11e7_971b_dca904728c1f\" class=\"row_heading level0 row2\" >top</th> \n",
       "        <td id=\"T_8bcd2f7a_c936_11e7_971b_dca904728c1frow2_col0\" class=\"data row2 col0\" >nan</td> \n",
       "        <td id=\"T_8bcd2f7a_c936_11e7_971b_dca904728c1frow2_col1\" class=\"data row2 col1\" >nan</td> \n",
       "        <td id=\"T_8bcd2f7a_c936_11e7_971b_dca904728c1frow2_col2\" class=\"data row2 col2\" >nan</td> \n",
       "        <td id=\"T_8bcd2f7a_c936_11e7_971b_dca904728c1frow2_col3\" class=\"data row2 col3\" >Laleff, Mr. Kristo</td> \n",
       "        <td id=\"T_8bcd2f7a_c936_11e7_971b_dca904728c1frow2_col4\" class=\"data row2 col4\" >male</td> \n",
       "        <td id=\"T_8bcd2f7a_c936_11e7_971b_dca904728c1frow2_col5\" class=\"data row2 col5\" >nan</td> \n",
       "        <td id=\"T_8bcd2f7a_c936_11e7_971b_dca904728c1frow2_col6\" class=\"data row2 col6\" >nan</td> \n",
       "        <td id=\"T_8bcd2f7a_c936_11e7_971b_dca904728c1frow2_col7\" class=\"data row2 col7\" >nan</td> \n",
       "        <td id=\"T_8bcd2f7a_c936_11e7_971b_dca904728c1frow2_col8\" class=\"data row2 col8\" >347082</td> \n",
       "        <td id=\"T_8bcd2f7a_c936_11e7_971b_dca904728c1frow2_col9\" class=\"data row2 col9\" >nan</td> \n",
       "        <td id=\"T_8bcd2f7a_c936_11e7_971b_dca904728c1frow2_col10\" class=\"data row2 col10\" >C23 C25 C27</td> \n",
       "        <td id=\"T_8bcd2f7a_c936_11e7_971b_dca904728c1frow2_col11\" class=\"data row2 col11\" >S</td> \n",
       "    </tr>    <tr> \n",
       "        <th id=\"T_8bcd2f7a_c936_11e7_971b_dca904728c1f\" class=\"row_heading level0 row3\" >freq</th> \n",
       "        <td id=\"T_8bcd2f7a_c936_11e7_971b_dca904728c1frow3_col0\" class=\"data row3 col0\" >nan</td> \n",
       "        <td id=\"T_8bcd2f7a_c936_11e7_971b_dca904728c1frow3_col1\" class=\"data row3 col1\" >nan</td> \n",
       "        <td id=\"T_8bcd2f7a_c936_11e7_971b_dca904728c1frow3_col2\" class=\"data row3 col2\" >nan</td> \n",
       "        <td id=\"T_8bcd2f7a_c936_11e7_971b_dca904728c1frow3_col3\" class=\"data row3 col3\" >1</td> \n",
       "        <td id=\"T_8bcd2f7a_c936_11e7_971b_dca904728c1frow3_col4\" class=\"data row3 col4\" >577</td> \n",
       "        <td id=\"T_8bcd2f7a_c936_11e7_971b_dca904728c1frow3_col5\" class=\"data row3 col5\" >nan</td> \n",
       "        <td id=\"T_8bcd2f7a_c936_11e7_971b_dca904728c1frow3_col6\" class=\"data row3 col6\" >nan</td> \n",
       "        <td id=\"T_8bcd2f7a_c936_11e7_971b_dca904728c1frow3_col7\" class=\"data row3 col7\" >nan</td> \n",
       "        <td id=\"T_8bcd2f7a_c936_11e7_971b_dca904728c1frow3_col8\" class=\"data row3 col8\" >7</td> \n",
       "        <td id=\"T_8bcd2f7a_c936_11e7_971b_dca904728c1frow3_col9\" class=\"data row3 col9\" >nan</td> \n",
       "        <td id=\"T_8bcd2f7a_c936_11e7_971b_dca904728c1frow3_col10\" class=\"data row3 col10\" >4</td> \n",
       "        <td id=\"T_8bcd2f7a_c936_11e7_971b_dca904728c1frow3_col11\" class=\"data row3 col11\" >644</td> \n",
       "    </tr>    <tr> \n",
       "        <th id=\"T_8bcd2f7a_c936_11e7_971b_dca904728c1f\" class=\"row_heading level0 row4\" >mean</th> \n",
       "        <td id=\"T_8bcd2f7a_c936_11e7_971b_dca904728c1frow4_col0\" class=\"data row4 col0\" >446</td> \n",
       "        <td id=\"T_8bcd2f7a_c936_11e7_971b_dca904728c1frow4_col1\" class=\"data row4 col1\" >0.383838</td> \n",
       "        <td id=\"T_8bcd2f7a_c936_11e7_971b_dca904728c1frow4_col2\" class=\"data row4 col2\" >2.30864</td> \n",
       "        <td id=\"T_8bcd2f7a_c936_11e7_971b_dca904728c1frow4_col3\" class=\"data row4 col3\" >nan</td> \n",
       "        <td id=\"T_8bcd2f7a_c936_11e7_971b_dca904728c1frow4_col4\" class=\"data row4 col4\" >nan</td> \n",
       "        <td id=\"T_8bcd2f7a_c936_11e7_971b_dca904728c1frow4_col5\" class=\"data row4 col5\" >29.6991</td> \n",
       "        <td id=\"T_8bcd2f7a_c936_11e7_971b_dca904728c1frow4_col6\" class=\"data row4 col6\" >0.523008</td> \n",
       "        <td id=\"T_8bcd2f7a_c936_11e7_971b_dca904728c1frow4_col7\" class=\"data row4 col7\" >0.381594</td> \n",
       "        <td id=\"T_8bcd2f7a_c936_11e7_971b_dca904728c1frow4_col8\" class=\"data row4 col8\" >nan</td> \n",
       "        <td id=\"T_8bcd2f7a_c936_11e7_971b_dca904728c1frow4_col9\" class=\"data row4 col9\" >32.2042</td> \n",
       "        <td id=\"T_8bcd2f7a_c936_11e7_971b_dca904728c1frow4_col10\" class=\"data row4 col10\" >nan</td> \n",
       "        <td id=\"T_8bcd2f7a_c936_11e7_971b_dca904728c1frow4_col11\" class=\"data row4 col11\" >nan</td> \n",
       "    </tr>    <tr> \n",
       "        <th id=\"T_8bcd2f7a_c936_11e7_971b_dca904728c1f\" class=\"row_heading level0 row5\" >std</th> \n",
       "        <td id=\"T_8bcd2f7a_c936_11e7_971b_dca904728c1frow5_col0\" class=\"data row5 col0\" >257.354</td> \n",
       "        <td id=\"T_8bcd2f7a_c936_11e7_971b_dca904728c1frow5_col1\" class=\"data row5 col1\" >0.486592</td> \n",
       "        <td id=\"T_8bcd2f7a_c936_11e7_971b_dca904728c1frow5_col2\" class=\"data row5 col2\" >0.836071</td> \n",
       "        <td id=\"T_8bcd2f7a_c936_11e7_971b_dca904728c1frow5_col3\" class=\"data row5 col3\" >nan</td> \n",
       "        <td id=\"T_8bcd2f7a_c936_11e7_971b_dca904728c1frow5_col4\" class=\"data row5 col4\" >nan</td> \n",
       "        <td id=\"T_8bcd2f7a_c936_11e7_971b_dca904728c1frow5_col5\" class=\"data row5 col5\" >14.5265</td> \n",
       "        <td id=\"T_8bcd2f7a_c936_11e7_971b_dca904728c1frow5_col6\" class=\"data row5 col6\" >1.10274</td> \n",
       "        <td id=\"T_8bcd2f7a_c936_11e7_971b_dca904728c1frow5_col7\" class=\"data row5 col7\" >0.806057</td> \n",
       "        <td id=\"T_8bcd2f7a_c936_11e7_971b_dca904728c1frow5_col8\" class=\"data row5 col8\" >nan</td> \n",
       "        <td id=\"T_8bcd2f7a_c936_11e7_971b_dca904728c1frow5_col9\" class=\"data row5 col9\" >49.6934</td> \n",
       "        <td id=\"T_8bcd2f7a_c936_11e7_971b_dca904728c1frow5_col10\" class=\"data row5 col10\" >nan</td> \n",
       "        <td id=\"T_8bcd2f7a_c936_11e7_971b_dca904728c1frow5_col11\" class=\"data row5 col11\" >nan</td> \n",
       "    </tr>    <tr> \n",
       "        <th id=\"T_8bcd2f7a_c936_11e7_971b_dca904728c1f\" class=\"row_heading level0 row6\" >min</th> \n",
       "        <td id=\"T_8bcd2f7a_c936_11e7_971b_dca904728c1frow6_col0\" class=\"data row6 col0\" >1</td> \n",
       "        <td id=\"T_8bcd2f7a_c936_11e7_971b_dca904728c1frow6_col1\" class=\"data row6 col1\" >0</td> \n",
       "        <td id=\"T_8bcd2f7a_c936_11e7_971b_dca904728c1frow6_col2\" class=\"data row6 col2\" >1</td> \n",
       "        <td id=\"T_8bcd2f7a_c936_11e7_971b_dca904728c1frow6_col3\" class=\"data row6 col3\" >nan</td> \n",
       "        <td id=\"T_8bcd2f7a_c936_11e7_971b_dca904728c1frow6_col4\" class=\"data row6 col4\" >nan</td> \n",
       "        <td id=\"T_8bcd2f7a_c936_11e7_971b_dca904728c1frow6_col5\" class=\"data row6 col5\" >0.42</td> \n",
       "        <td id=\"T_8bcd2f7a_c936_11e7_971b_dca904728c1frow6_col6\" class=\"data row6 col6\" >0</td> \n",
       "        <td id=\"T_8bcd2f7a_c936_11e7_971b_dca904728c1frow6_col7\" class=\"data row6 col7\" >0</td> \n",
       "        <td id=\"T_8bcd2f7a_c936_11e7_971b_dca904728c1frow6_col8\" class=\"data row6 col8\" >nan</td> \n",
       "        <td id=\"T_8bcd2f7a_c936_11e7_971b_dca904728c1frow6_col9\" class=\"data row6 col9\" >0</td> \n",
       "        <td id=\"T_8bcd2f7a_c936_11e7_971b_dca904728c1frow6_col10\" class=\"data row6 col10\" >nan</td> \n",
       "        <td id=\"T_8bcd2f7a_c936_11e7_971b_dca904728c1frow6_col11\" class=\"data row6 col11\" >nan</td> \n",
       "    </tr>    <tr> \n",
       "        <th id=\"T_8bcd2f7a_c936_11e7_971b_dca904728c1f\" class=\"row_heading level0 row7\" >25%</th> \n",
       "        <td id=\"T_8bcd2f7a_c936_11e7_971b_dca904728c1frow7_col0\" class=\"data row7 col0\" >223.5</td> \n",
       "        <td id=\"T_8bcd2f7a_c936_11e7_971b_dca904728c1frow7_col1\" class=\"data row7 col1\" >0</td> \n",
       "        <td id=\"T_8bcd2f7a_c936_11e7_971b_dca904728c1frow7_col2\" class=\"data row7 col2\" >2</td> \n",
       "        <td id=\"T_8bcd2f7a_c936_11e7_971b_dca904728c1frow7_col3\" class=\"data row7 col3\" >nan</td> \n",
       "        <td id=\"T_8bcd2f7a_c936_11e7_971b_dca904728c1frow7_col4\" class=\"data row7 col4\" >nan</td> \n",
       "        <td id=\"T_8bcd2f7a_c936_11e7_971b_dca904728c1frow7_col5\" class=\"data row7 col5\" >20.125</td> \n",
       "        <td id=\"T_8bcd2f7a_c936_11e7_971b_dca904728c1frow7_col6\" class=\"data row7 col6\" >0</td> \n",
       "        <td id=\"T_8bcd2f7a_c936_11e7_971b_dca904728c1frow7_col7\" class=\"data row7 col7\" >0</td> \n",
       "        <td id=\"T_8bcd2f7a_c936_11e7_971b_dca904728c1frow7_col8\" class=\"data row7 col8\" >nan</td> \n",
       "        <td id=\"T_8bcd2f7a_c936_11e7_971b_dca904728c1frow7_col9\" class=\"data row7 col9\" >7.9104</td> \n",
       "        <td id=\"T_8bcd2f7a_c936_11e7_971b_dca904728c1frow7_col10\" class=\"data row7 col10\" >nan</td> \n",
       "        <td id=\"T_8bcd2f7a_c936_11e7_971b_dca904728c1frow7_col11\" class=\"data row7 col11\" >nan</td> \n",
       "    </tr>    <tr> \n",
       "        <th id=\"T_8bcd2f7a_c936_11e7_971b_dca904728c1f\" class=\"row_heading level0 row8\" >50%</th> \n",
       "        <td id=\"T_8bcd2f7a_c936_11e7_971b_dca904728c1frow8_col0\" class=\"data row8 col0\" >446</td> \n",
       "        <td id=\"T_8bcd2f7a_c936_11e7_971b_dca904728c1frow8_col1\" class=\"data row8 col1\" >0</td> \n",
       "        <td id=\"T_8bcd2f7a_c936_11e7_971b_dca904728c1frow8_col2\" class=\"data row8 col2\" >3</td> \n",
       "        <td id=\"T_8bcd2f7a_c936_11e7_971b_dca904728c1frow8_col3\" class=\"data row8 col3\" >nan</td> \n",
       "        <td id=\"T_8bcd2f7a_c936_11e7_971b_dca904728c1frow8_col4\" class=\"data row8 col4\" >nan</td> \n",
       "        <td id=\"T_8bcd2f7a_c936_11e7_971b_dca904728c1frow8_col5\" class=\"data row8 col5\" >28</td> \n",
       "        <td id=\"T_8bcd2f7a_c936_11e7_971b_dca904728c1frow8_col6\" class=\"data row8 col6\" >0</td> \n",
       "        <td id=\"T_8bcd2f7a_c936_11e7_971b_dca904728c1frow8_col7\" class=\"data row8 col7\" >0</td> \n",
       "        <td id=\"T_8bcd2f7a_c936_11e7_971b_dca904728c1frow8_col8\" class=\"data row8 col8\" >nan</td> \n",
       "        <td id=\"T_8bcd2f7a_c936_11e7_971b_dca904728c1frow8_col9\" class=\"data row8 col9\" >14.4542</td> \n",
       "        <td id=\"T_8bcd2f7a_c936_11e7_971b_dca904728c1frow8_col10\" class=\"data row8 col10\" >nan</td> \n",
       "        <td id=\"T_8bcd2f7a_c936_11e7_971b_dca904728c1frow8_col11\" class=\"data row8 col11\" >nan</td> \n",
       "    </tr>    <tr> \n",
       "        <th id=\"T_8bcd2f7a_c936_11e7_971b_dca904728c1f\" class=\"row_heading level0 row9\" >75%</th> \n",
       "        <td id=\"T_8bcd2f7a_c936_11e7_971b_dca904728c1frow9_col0\" class=\"data row9 col0\" >668.5</td> \n",
       "        <td id=\"T_8bcd2f7a_c936_11e7_971b_dca904728c1frow9_col1\" class=\"data row9 col1\" >1</td> \n",
       "        <td id=\"T_8bcd2f7a_c936_11e7_971b_dca904728c1frow9_col2\" class=\"data row9 col2\" >3</td> \n",
       "        <td id=\"T_8bcd2f7a_c936_11e7_971b_dca904728c1frow9_col3\" class=\"data row9 col3\" >nan</td> \n",
       "        <td id=\"T_8bcd2f7a_c936_11e7_971b_dca904728c1frow9_col4\" class=\"data row9 col4\" >nan</td> \n",
       "        <td id=\"T_8bcd2f7a_c936_11e7_971b_dca904728c1frow9_col5\" class=\"data row9 col5\" >38</td> \n",
       "        <td id=\"T_8bcd2f7a_c936_11e7_971b_dca904728c1frow9_col6\" class=\"data row9 col6\" >1</td> \n",
       "        <td id=\"T_8bcd2f7a_c936_11e7_971b_dca904728c1frow9_col7\" class=\"data row9 col7\" >0</td> \n",
       "        <td id=\"T_8bcd2f7a_c936_11e7_971b_dca904728c1frow9_col8\" class=\"data row9 col8\" >nan</td> \n",
       "        <td id=\"T_8bcd2f7a_c936_11e7_971b_dca904728c1frow9_col9\" class=\"data row9 col9\" >31</td> \n",
       "        <td id=\"T_8bcd2f7a_c936_11e7_971b_dca904728c1frow9_col10\" class=\"data row9 col10\" >nan</td> \n",
       "        <td id=\"T_8bcd2f7a_c936_11e7_971b_dca904728c1frow9_col11\" class=\"data row9 col11\" >nan</td> \n",
       "    </tr>    <tr> \n",
       "        <th id=\"T_8bcd2f7a_c936_11e7_971b_dca904728c1f\" class=\"row_heading level0 row10\" >max</th> \n",
       "        <td id=\"T_8bcd2f7a_c936_11e7_971b_dca904728c1frow10_col0\" class=\"data row10 col0\" >891</td> \n",
       "        <td id=\"T_8bcd2f7a_c936_11e7_971b_dca904728c1frow10_col1\" class=\"data row10 col1\" >1</td> \n",
       "        <td id=\"T_8bcd2f7a_c936_11e7_971b_dca904728c1frow10_col2\" class=\"data row10 col2\" >3</td> \n",
       "        <td id=\"T_8bcd2f7a_c936_11e7_971b_dca904728c1frow10_col3\" class=\"data row10 col3\" >nan</td> \n",
       "        <td id=\"T_8bcd2f7a_c936_11e7_971b_dca904728c1frow10_col4\" class=\"data row10 col4\" >nan</td> \n",
       "        <td id=\"T_8bcd2f7a_c936_11e7_971b_dca904728c1frow10_col5\" class=\"data row10 col5\" >80</td> \n",
       "        <td id=\"T_8bcd2f7a_c936_11e7_971b_dca904728c1frow10_col6\" class=\"data row10 col6\" >8</td> \n",
       "        <td id=\"T_8bcd2f7a_c936_11e7_971b_dca904728c1frow10_col7\" class=\"data row10 col7\" >6</td> \n",
       "        <td id=\"T_8bcd2f7a_c936_11e7_971b_dca904728c1frow10_col8\" class=\"data row10 col8\" >nan</td> \n",
       "        <td id=\"T_8bcd2f7a_c936_11e7_971b_dca904728c1frow10_col9\" class=\"data row10 col9\" >512.329</td> \n",
       "        <td id=\"T_8bcd2f7a_c936_11e7_971b_dca904728c1frow10_col10\" class=\"data row10 col10\" >nan</td> \n",
       "        <td id=\"T_8bcd2f7a_c936_11e7_971b_dca904728c1frow10_col11\" class=\"data row10 col11\" >nan</td> \n",
       "    </tr></tbody> \n",
       "</table> "
      ],
      "text/plain": [
       "<pandas.io.formats.style.Styler at 0x1088a5208>"
      ]
     },
     "execution_count": 4,
     "metadata": {},
     "output_type": "execute_result"
    }
   ],
   "source": [
    "# get descriptive statistics\n",
    "\n",
    "def highlight_lower_count(val):\n",
    "    \"\"\"\n",
    "    highlight values in columns that do not have records for all passengers\n",
    "    \"\"\"\n",
    "    return 'background-color: yellow' if val < len(titanic_df) else ''\n",
    "\n",
    "def highlight_zeroes(val):\n",
    "    \"\"\"\n",
    "    highlight values that are equal to zero\n",
    "    \"\"\"\n",
    "    return 'background-color: yellow' if val == 0 else ''\n",
    "\n",
    "titanic_df.describe(include='all').style.\\\n",
    "                                    applymap(highlight_lower_count, subset=pd.IndexSlice['count',]).\\\n",
    "                                    applymap(highlight_zeroes, subset='Fare')"
   ]
  },
  {
   "cell_type": "markdown",
   "metadata": {},
   "source": [
    "## Data Cleaning"
   ]
  },
  {
   "cell_type": "markdown",
   "metadata": {},
   "source": [
    "By viewing 'count', the first row in the table above, it is evident that the variables 'Age', 'Cabin' and 'Embarked' do not have records for the all the passengers. It is also worth noticing that the 'Fare' column has a value of 0.00 in the 'min' row. This indicates that before analysing relationships involving these variables it is a good idea to clean the data."
   ]
  },
  {
   "cell_type": "markdown",
   "metadata": {},
   "source": [
    "### *Age*"
   ]
  },
  {
   "cell_type": "markdown",
   "metadata": {},
   "source": [
    "A common practice to deal with missing values in variables such as age is ts to replace them with the mean or median, assuming that missing values are distributed similarly to the values that are present. With this approach the 177 missing values would be replaced either by 29.7 (mean) or 28 (median). This could introduce bias in the relation between age and survival. More fine-tuned approaches could be used, such as grouping passengers by class and sex and then replacing the missing age values within each group by the mean age of the group.\n",
    "\n",
    "However, it can be considered that having 714 passanges with age data is a subset large enough to check for a relation between age and survival and that it is better to analyze this relation using just the present data, than to affect the relation with data imputed from the mean or median.\n",
    "\n",
    "Therefore for subsequent analyses of age, a dataframe containing only the subset of passengers that have age value will be used."
   ]
  },
  {
   "cell_type": "code",
   "execution_count": 5,
   "metadata": {
    "collapsed": true
   },
   "outputs": [],
   "source": [
    "# get a dataframe where all passengers have age record\n",
    "dropna_age_df = titanic_df.dropna(axis=0, how='any', subset= ['Age'])"
   ]
  },
  {
   "cell_type": "markdown",
   "metadata": {},
   "source": [
    "### *Fare*"
   ]
  },
  {
   "cell_type": "code",
   "execution_count": 6,
   "metadata": {},
   "outputs": [
    {
     "name": "stdout",
     "output_type": "stream",
     "text": [
      "number of fares to be replaced:\n",
      "15\n",
      "mean fares by passenger class\n",
      "Pclass\n",
      "1    84.154687\n",
      "2    20.662183\n",
      "3    13.675550\n",
      "Name: Fare, dtype: float64\n",
      "       FareNew  Fare  Pclass\n",
      "179  13.675550   0.0       3\n",
      "263  84.154687   0.0       1\n",
      "271  13.675550   0.0       3\n",
      "277  20.662183   0.0       2\n",
      "302  13.675550   0.0       3\n",
      "413  20.662183   0.0       2\n",
      "466  20.662183   0.0       2\n",
      "481  20.662183   0.0       2\n",
      "597  13.675550   0.0       3\n",
      "633  84.154687   0.0       1\n",
      "674  20.662183   0.0       2\n",
      "732  20.662183   0.0       2\n",
      "806  84.154687   0.0       1\n",
      "815  84.154687   0.0       1\n",
      "822  84.154687   0.0       1\n"
     ]
    }
   ],
   "source": [
    "import numpy as np\n",
    "\n",
    "# find out how many fares need to be replaced\n",
    "print('number of fares to be replaced:')\n",
    "print(len(titanic_df[titanic_df['Fare']==0]))\n",
    "\n",
    "# mean fare value for each passenger class\n",
    "print('mean fares by passenger class')\n",
    "print(titanic_df.groupby('Pclass')['Fare'].mean())\n",
    "\n",
    "# create FareNew column, fill with values from 'Fare' column or with the mean age of the respective passenger class\n",
    "# the following function was taken from Udacity´s student forum\n",
    "def replace_fare(grp):\n",
    "    grp['FareNew'] = np.where(((grp['Fare'] ==0) | (grp['Fare'].isnull())), grp['Fare'].mean(),grp['Fare'])\n",
    "    return grp\n",
    "\n",
    "titanic_df = titanic_df.groupby('Pclass').apply(replace_fare)\n",
    "\n",
    "# print the results to compare\n",
    "print(titanic_df[((titanic_df['Fare'] ==0) | (titanic_df['Fare'].isnull()))][['FareNew','Fare','Pclass']])\n",
    "\n",
    "titanic_df.drop(['Fare'], axis=1, inplace=True)"
   ]
  },
  {
   "cell_type": "markdown",
   "metadata": {},
   "source": [
    "All fares with value equal to zero were replaced with the mean fare of the passenger's class. The column 'Fare' was dropped, as only the column 'FareNew' will be used for the analysis."
   ]
  },
  {
   "cell_type": "markdown",
   "metadata": {},
   "source": [
    "### *Cabin*"
   ]
  },
  {
   "cell_type": "markdown",
   "metadata": {},
   "source": [
    "The variable 'Cabin', which has entries for only 204 passengers, is missing too many values to be useful. In this case, the best solution is to delete the column. Another possible solution would be to use imputation to replace the missing data, but it is not clear which relation with which variables could be the basis for the imputation. \n",
    "\n",
    "Since 'Cabin' values consist of a letter followed by a number, e.g. C85, it is worth taking an extra step to check and observe only the letter part of the value."
   ]
  },
  {
   "cell_type": "code",
   "execution_count": 7,
   "metadata": {},
   "outputs": [
    {
     "name": "stdout",
     "output_type": "stream",
     "text": [
      "Pclass 1: ['A', 'B', 'C', 'D', 'E', 'T']\n",
      "Pclass 2: ['D', 'E', 'F']\n",
      "Pclass 3: ['E', 'F', 'G']\n"
     ]
    }
   ],
   "source": [
    "# add column 'cabin-letter' with first character of value in column 'Cabin'\n",
    "titanic_df['cabin-letter'] = titanic_df['Cabin'].str[0]\n",
    "\n",
    "# group unique cabin-letter values by passenger class\n",
    "for i in range(1,4):\n",
    "    print('Pclass {}: {}'.format(i, sorted(titanic_df[titanic_df['Cabin'].notnull()\\\n",
    "                                                      & (titanic_df['Pclass'] == i)]['cabin-letter'].unique())))"
   ]
  },
  {
   "cell_type": "markdown",
   "metadata": {},
   "source": [
    "Of all variables, passenger class is assumed to be the one that most likely is related with 'cabin-letter'. As the result above shows, some letters are exclusive to one or to two passenger classes. Although this seems to point to a possible relation between these two variables, there is still too much uncertainty on how to replace the missing values and therefore it is better to drop the 'Cabin' and 'cabin-letter' columns, than to keep the columns uninformative as they are, or to replace the missing values with likely noisy data."
   ]
  },
  {
   "cell_type": "code",
   "execution_count": 8,
   "metadata": {
    "collapsed": true
   },
   "outputs": [],
   "source": [
    "# remove columns Cabin and cabin-letter\n",
    "titanic_df.drop(['Cabin', 'cabin-letter'], axis=1, inplace=True)"
   ]
  },
  {
   "cell_type": "markdown",
   "metadata": {
    "collapsed": true
   },
   "source": [
    "### *Embarked*"
   ]
  },
  {
   "cell_type": "code",
   "execution_count": 9,
   "metadata": {
    "collapsed": true
   },
   "outputs": [],
   "source": [
    "titanic_df['Embarked'].fillna('S', inplace=True)"
   ]
  },
  {
   "cell_type": "markdown",
   "metadata": {},
   "source": [
    "For categorical data, it is common to replace missing values with the mode. With only two missing values in the column 'Embarked', this is the right approach."
   ]
  },
  {
   "cell_type": "markdown",
   "metadata": {},
   "source": [
    "# Explore Phase"
   ]
  },
  {
   "cell_type": "markdown",
   "metadata": {},
   "source": [
    "## 1. Which factors made passengers more likely to survive?\n",
    "\n",
    "For most of the analyses, a stacked bar chart showing the survival rate for different passenger groups is presented."
   ]
  },
  {
   "cell_type": "markdown",
   "metadata": {},
   "source": [
    "### *Class*"
   ]
  },
  {
   "cell_type": "code",
   "execution_count": 10,
   "metadata": {
    "scrolled": true
   },
   "outputs": [
    {
     "data": {
      "text/plain": [
       "<matplotlib.legend.Legend at 0x1135c2b70>"
      ]
     },
     "execution_count": 10,
     "metadata": {},
     "output_type": "execute_result"
    },
    {
     "data": {
      "image/png": "[encoded data removed]",
      "text/plain": [
       "<matplotlib.figure.Figure at 0x11343cfd0>"
      ]
     },
     "metadata": {},
     "output_type": "display_data"
    }
   ],
   "source": [
    "# import the libraries needed to create the charts\n",
    "import matplotlib.pyplot as plt\n",
    "import seaborn as sns\n",
    "\n",
    "%matplotlib inline\n",
    "\n",
    "# view survival and death rate for passenger class (1st, 2nd and 3rd)\n",
    "survival_by_class = 100 * (titanic_df.groupby('Pclass')['Survived'].mean())\n",
    "died_by_class = (100 - survival_by_class)\n",
    "\n",
    "\n",
    "N = len(survival_by_class)\n",
    "ind = np.arange(N) # the x locations for the groups\n",
    "width = 0.40       # the width of the bars\n",
    "\n",
    "p1 = plt.bar(ind, survival_by_class, width, label='Survived')\n",
    "p2 = plt.bar(ind, died_by_class, width, bottom=survival_by_class, label='Died')\n",
    "\n",
    "plt.ylabel('% of passengers')\n",
    "plt.title('Survival and death by class')\n",
    "plt.xticks(ind, ('1st Class', '2nd Class', '3rd Class'))\n",
    "plt.yticks(np.arange(0, 110, 10))\n",
    "\n",
    "# place legend to the right of the plot to avoid overlap with bar\n",
    "plt.legend(bbox_to_anchor=(1.05, 1), loc=2, borderaxespad=0.)"
   ]
  },
  {
   "cell_type": "markdown",
   "metadata": {},
   "source": [
    "The chart above shows a strong contrast between the survival rate in different passenger classes. The survival rates in the 1st, 2nd and 3rd class were approximately 63%, 47% and 24%, respectively."
   ]
  },
  {
   "cell_type": "markdown",
   "metadata": {},
   "source": [
    "### *Sex*"
   ]
  },
  {
   "cell_type": "code",
   "execution_count": 11,
   "metadata": {},
   "outputs": [
    {
     "data": {
      "text/plain": [
       "<matplotlib.legend.Legend at 0x113760c88>"
      ]
     },
     "execution_count": 11,
     "metadata": {},
     "output_type": "execute_result"
    },
    {
     "data": {
      "image/png": "[encoded data removed]",
      "text/plain": [
       "<matplotlib.figure.Figure at 0x1117e9e48>"
      ]
     },
     "metadata": {},
     "output_type": "display_data"
    }
   ],
   "source": [
    "# view survival and death rate for passengers grouped by sex\n",
    "\n",
    "survival_by_sex = 100 * (titanic_df.groupby('Sex')['Survived'].mean())\n",
    "died_by_sex = (100 - survival_by_sex)\n",
    "\n",
    "\n",
    "N = len(survival_by_sex)\n",
    "ind = np.arange(N) # the x locations for the groups\n",
    "width = 0.35       # the width of the bars\n",
    "\n",
    "p1 = plt.bar(ind, survival_by_sex, width, label='Survived')\n",
    "p2 = plt.bar(ind, died_by_sex, width,\n",
    "             bottom=survival_by_sex, label='Died')\n",
    "\n",
    "plt.ylabel('% of passengers')\n",
    "plt.title('Survival by sex')\n",
    "plt.xticks(ind, ('Female', 'Male'))\n",
    "plt.yticks(np.arange(0, 110, 10))\n",
    "# place legend to the right of the plot to avoid overlap with bar\n",
    "plt.legend(bbox_to_anchor=(1.05, 1), loc=2, borderaxespad=0.)"
   ]
  },
  {
   "cell_type": "markdown",
   "metadata": {},
   "source": [
    "The suvival rate for male and female passengers is approximately 74% and 19% respectively."
   ]
  },
  {
   "cell_type": "markdown",
   "metadata": {
    "collapsed": true
   },
   "source": [
    "### *Age*"
   ]
  },
  {
   "cell_type": "code",
   "execution_count": 12,
   "metadata": {},
   "outputs": [
    {
     "data": {
      "text/plain": [
       "<matplotlib.legend.Legend at 0x11390bb00>"
      ]
     },
     "execution_count": 12,
     "metadata": {},
     "output_type": "execute_result"
    },
    {
     "data": {
      "image/png": "[encoded data removed]",
      "text/plain": [
       "<matplotlib.figure.Figure at 0x110b7e748>"
      ]
     },
     "metadata": {},
     "output_type": "display_data"
    }
   ],
   "source": [
    "# get survival and death rate for an age interval\n",
    "def age_group(age_start,age_end=120):\n",
    "    survival_age = 100 * (dropna_age_df[(dropna_age_df['Age']>=age_start) \\\n",
    "                                    & (dropna_age_df['Age']<age_end)]['Survived'].mean())\n",
    "    die_age = 100 - survival_age\n",
    "    return survival_age, die_age\n",
    "\n",
    "# get survival and death rate for ages groups I am interested in\n",
    "age_groups = {\n",
    "'children': age_group(0,13),\n",
    "'teenagers': age_group(13,20),\n",
    "'twenties': age_group(20,30),\n",
    "'thirties': age_group(30,40),\n",
    "'fourties': age_group(40,50),\n",
    "'fiftees': age_group(50,60),\n",
    "'sixtees': age_group(60,70),\n",
    "'over_seventy': age_group(70)\n",
    "}\n",
    " \n",
    "# get the list of scalars (height of the bars in the chart)\n",
    "survival_by_age = []\n",
    "die_by_age = []\n",
    "for key, value in age_groups.items():\n",
    "    survival_by_age.append(value[0])\n",
    "    die_by_age.append(value[1])\n",
    "\n",
    "# turn the lists into numpy arrays in order to use them for the bar chart    \n",
    "survival_by_age = np.array(survival_by_age)\n",
    "died_by_age = np.array(die_by_age)\n",
    "\n",
    "# increase figure size to avoid x-tick labels overlapping\n",
    "plt.figure(figsize=(8,5))\n",
    "\n",
    "# plot the stacked bar chart         \n",
    "N = len(survival_by_age)\n",
    "ind = np.arange(N) # the x locations for the groups\n",
    "width = 0.35       # the width of the bars\n",
    "\n",
    "p1 = plt.bar(ind, survival_by_age, width, label='Survived')\n",
    "p2 = plt.bar(ind, died_by_age, width,\n",
    "             bottom=survival_by_age, label='Died')\n",
    "\n",
    "plt.ylabel('% of passengers')\n",
    "plt.title('Survival by age group')\n",
    "plt.xticks(ind, ('children<13', 'teenagers', 'twenties', 'thirties', 'fourties', \\\n",
    "                 'fiftees', 'sixtees', 'over_seventy'))\n",
    "plt.yticks(np.arange(0, 110, 10))\n",
    "\n",
    "# place legend to the right of the plot to avoid overlap with bar\n",
    "plt.legend(bbox_to_anchor=(1.05, 1), loc=2, borderaxespad=0.)"
   ]
  },
  {
   "cell_type": "markdown",
   "metadata": {},
   "source": [
    "The chart shows that the survival rate for the children group (less than thirteen years old) is close to 60%. For the other age groups the survival rate is between 30 to 45%, except for the over-seventy-years old group, where less than 20% of the passengers survived."
   ]
  },
  {
   "cell_type": "markdown",
   "metadata": {},
   "source": [
    "### *Embark location*"
   ]
  },
  {
   "cell_type": "code",
   "execution_count": 13,
   "metadata": {},
   "outputs": [
    {
     "data": {
      "text/plain": [
       "<matplotlib.legend.Legend at 0x113b53cf8>"
      ]
     },
     "execution_count": 13,
     "metadata": {},
     "output_type": "execute_result"
    },
    {
     "data": {
      "image/png": "[encoded data removed]",
      "text/plain": [
       "<matplotlib.figure.Figure at 0x113508080>"
      ]
     },
     "metadata": {},
     "output_type": "display_data"
    }
   ],
   "source": [
    "# view survival and death rate for passengers grouped by embark location\n",
    "survival_by_embark = 100 * (titanic_df.groupby('Embarked')['Survived'].mean())\n",
    "died_by_embark = (100 - survival_by_embark)\n",
    "\n",
    "\n",
    "N = len(survival_by_embark)\n",
    "ind = np.arange(N) # the x locations for the groups\n",
    "width = 0.40       # the width of the bars\n",
    "\n",
    "p1 = plt.bar(ind, survival_by_embark, width, label='Survived')\n",
    "p2 = plt.bar(ind, died_by_embark, width, bottom=survival_by_embark, label='Died')\n",
    "\n",
    "plt.ylabel('% of passengers')\n",
    "plt.title('Survival rate for passengers grouped by embark location')\n",
    "plt.xticks(ind, ('Cherbourg', 'Queenstown', 'Southampton'))\n",
    "plt.yticks(np.arange(0, 110, 20))\n",
    "\n",
    "# place legend to the right of the plot to avoid overlap with bar\n",
    "plt.legend(bbox_to_anchor=(1.05, 1), loc=2, borderaxespad=0.)"
   ]
  },
  {
   "cell_type": "markdown",
   "metadata": {},
   "source": [
    "There is a visible difference between the survival rate of passengers who embarked in Cherbourg and Southampton."
   ]
  },
  {
   "cell_type": "markdown",
   "metadata": {},
   "source": [
    "### *Travelling with a sibling, spouse, parent or child*"
   ]
  },
  {
   "cell_type": "code",
   "execution_count": 14,
   "metadata": {
    "scrolled": true
   },
   "outputs": [
    {
     "data": {
      "text/plain": [
       "<matplotlib.legend.Legend at 0x113c5ef60>"
      ]
     },
     "execution_count": 14,
     "metadata": {},
     "output_type": "execute_result"
    },
    {
     "data": {
      "image/png": "[encoded data removed]",
      "text/plain": [
       "<matplotlib.figure.Figure at 0x1117612e8>"
      ]
     },
     "metadata": {},
     "output_type": "display_data"
    }
   ],
   "source": [
    "# create a list with the survival rate of each group (travelling with/without relatives)\n",
    "survival_relative = []\n",
    "survival_with_relative = 100 * titanic_df[(titanic_df['SibSp'] != 0) | (titanic_df['Parch'] != 0)]['Survived'].mean()\n",
    "survival_without_relative = 100 * titanic_df[(titanic_df['SibSp'] == 0) & (titanic_df['Parch'] == 0)]['Survived'].mean()\n",
    "survival_relative.append(survival_with_relative)\n",
    "survival_relative.append(survival_without_relative)\n",
    "survival_relative = np.array(survival_relative) # create the array necessary for the bar chart\n",
    "\n",
    "# create a list with the death rate of each group (travelling with/without relatives)\n",
    "died_relative = []\n",
    "died_with_relative = 100 - survival_with_relative\n",
    "died_without_relative = 100 - survival_without_relative\n",
    "died_relative.append(died_with_relative)\n",
    "died_relative.append(died_without_relative)\n",
    "died_relative = np.array(died_relative) # create the array necessary for the bar chart\n",
    "\n",
    "\n",
    "# plot survival and death rate for passengers grouped by whether they travelled with a relative or not\n",
    "N = len(survival_relative)\n",
    "ind = np.arange(N) # the x locations for the groups\n",
    "width = 0.35       # the width of the bars\n",
    "\n",
    "p1 = plt.bar(ind, survival_relative, width, label='Survived')\n",
    "p2 = plt.bar(ind, died_relative, width, bottom=survival_relative, label='Died')\n",
    "\n",
    "plt.ylabel('% of passengers')\n",
    "plt.title('Survival rate vs. having relatives on board or not')\n",
    "plt.xticks(ind, ('With relatives', 'Without relatives'))\n",
    "plt.yticks(np.arange(0, 110, 20))\n",
    "# place legend to the right of the plot to avoid overlap with bar\n",
    "plt.legend(bbox_to_anchor=(1.05, 1), loc=2, borderaxespad=0.)"
   ]
  },
  {
   "cell_type": "markdown",
   "metadata": {},
   "source": [
    "Passengers who travelled with relatives on board survived at a higher rate (appr. 50%) than passengers travelling without relatives (appr. 30%)"
   ]
  },
  {
   "cell_type": "markdown",
   "metadata": {},
   "source": [
    "### *Fare*"
   ]
  },
  {
   "cell_type": "code",
   "execution_count": 15,
   "metadata": {},
   "outputs": [
    {
     "data": {
      "text/plain": [
       "<matplotlib.text.Text at 0x1138e9a20>"
      ]
     },
     "execution_count": 15,
     "metadata": {},
     "output_type": "execute_result"
    },
    {
     "data": {
      "image/png": "[encoded data removed]",
      "text/plain": [
       "<matplotlib.figure.Figure at 0x1117e94a8>"
      ]
     },
     "metadata": {},
     "output_type": "display_data"
    }
   ],
   "source": [
    "# Boxplot of fare by survival\n",
    "fares_survived = titanic_df[titanic_df['Survived']==1]['FareNew']\n",
    "fares_died = titanic_df[titanic_df['Survived']==0]['FareNew']\n",
    "\n",
    "data = [fares_died, fares_survived]\n",
    "\n",
    "fig, ax1 = plt.subplots()\n",
    "bp = ax1.boxplot(data, labels=['Died', 'Survived'])\n",
    "\n",
    "# Set y axis range to improve plot readability by excluding extreme outliers\n",
    "ax1.set_ylim(0,150)\n",
    "\n",
    "plt.title('Tuckey boxplots of fare data grouped by survival outcome')\n",
    "plt.ylabel('Fare Value, (Pounds, 1912 prices)')"
   ]
  },
  {
   "cell_type": "markdown",
   "metadata": {},
   "source": [
    "In the 'Died' and 'Survived' groups, the median values were 10.5 and 26.0, respectively. In general fares of surviving passengers tend to be higher than fares of passengers who died.<p>\n",
    "\n",
    "The above chart does not contain all outliers, which were excluded by limiting the y axis for better visisbility of the interquartile range."
   ]
  },
  {
   "cell_type": "markdown",
   "metadata": {},
   "source": [
    "### *Grouping by age and sex*"
   ]
  },
  {
   "cell_type": "markdown",
   "metadata": {},
   "source": [
    "Of the previous analyses, passenger class and sex seemed to be the factors that more strongly influence the survival outcome. The chart below shows survival rates for passengers grouped by class and sex. The chart shows that sex has a larger effect size on survival than passenger class. While around 50% of women in the third-class survived, less than 40% of the first-class male passengers survived."
   ]
  },
  {
   "cell_type": "code",
   "execution_count": 16,
   "metadata": {},
   "outputs": [
    {
     "data": {
      "text/plain": [
       "<matplotlib.text.Text at 0x113dfc860>"
      ]
     },
     "execution_count": 16,
     "metadata": {},
     "output_type": "execute_result"
    },
    {
     "data": {
      "image/png": "[encoded data removed]",
      "text/plain": [
       "<matplotlib.figure.Figure at 0x1136310f0>"
      ]
     },
     "metadata": {},
     "output_type": "display_data"
    }
   ],
   "source": [
    "sns.barplot(x=\"Sex\", y=\"Survived\", hue=\"Pclass\", data=titanic_df)\n",
    "plt.title('Survival rate for passengers grouped by sex and class')"
   ]
  },
  {
   "cell_type": "markdown",
   "metadata": {},
   "source": [
    "## 2. Overview of the demographics of the Titanic passengers"
   ]
  },
  {
   "cell_type": "markdown",
   "metadata": {},
   "source": [
    "### *How many men and women in the dataset*"
   ]
  },
  {
   "cell_type": "code",
   "execution_count": 17,
   "metadata": {},
   "outputs": [
    {
     "data": {
      "text/plain": [
       "<matplotlib.text.Text at 0x113f9f5c0>"
      ]
     },
     "execution_count": 17,
     "metadata": {},
     "output_type": "execute_result"
    },
    {
     "data": {
      "image/png": "[encoded data removed]",
      "text/plain": [
       "<matplotlib.figure.Figure at 0x113ecf7f0>"
      ]
     },
     "metadata": {},
     "output_type": "display_data"
    }
   ],
   "source": [
    "sex_distribution = titanic_df.groupby('Sex').count()['PassengerId']\n",
    "sex_distribution.plot.bar(rot=0, ).set_ylabel('# of passengers')\n",
    "plt.title('Count of female and male passengers')"
   ]
  },
  {
   "cell_type": "markdown",
   "metadata": {},
   "source": [
    "The passenger distribution in the dataset is approximately 65% male and 35% female."
   ]
  },
  {
   "cell_type": "markdown",
   "metadata": {},
   "source": [
    "### *Passengers by class and sex*"
   ]
  },
  {
   "cell_type": "code",
   "execution_count": 14,
   "metadata": {},
   "outputs": [
    {
     "data": {
      "text/plain": [
       "<matplotlib.legend.Legend at 0x1163c4780>"
      ]
     },
     "execution_count": 14,
     "metadata": {},
     "output_type": "execute_result"
    },
    {
     "data": {
      "image/png": "[encoded data removed]",
      "text/plain": [
       "<matplotlib.figure.Figure at 0x116248710>"
      ]
     },
     "metadata": {},
     "output_type": "display_data"
    }
   ],
   "source": [
    "gender_class_count = titanic_df.groupby(['Sex', 'Pclass'], as_index=False).count()\n",
    "N = 3\n",
    "male_data = gender_class_count[gender_class_count['Sex']=='male']['PassengerId']\n",
    "female_data = gender_class_count[gender_class_count['Sex']=='female']['PassengerId']\n",
    "ind = np.arange(N)    # the x locations for the groups\n",
    "width = 0.35       # the width of the bars: can also be len(x) sequence\n",
    "\n",
    "p1 = plt.bar(ind, male_data, width)\n",
    "p2 = plt.bar(ind, female_data, width,\n",
    "             bottom=male_data)\n",
    "\n",
    "plt.ylabel('# of passengers')\n",
    "plt.title('Gender distribution by class')\n",
    "plt.xticks(ind, ('1st Class', '2nd Class', '3rd Class'))\n",
    "plt.yticks(np.arange(0, 520, 50))\n",
    "plt.legend((p1[0], p2[0]), ('Male', 'Female'))"
   ]
  },
  {
   "cell_type": "markdown",
   "metadata": {},
   "source": [
    "The chart above shows how the third class passengers were the majority. In all passenger classes there were more men than women."
   ]
  },
  {
   "cell_type": "markdown",
   "metadata": {},
   "source": [
    "### *Passengers age distribution by class*"
   ]
  },
  {
   "cell_type": "code",
   "execution_count": 15,
   "metadata": {},
   "outputs": [
    {
     "data": {
      "text/plain": [
       "<matplotlib.legend.Legend at 0x1166c8d68>"
      ]
     },
     "execution_count": 15,
     "metadata": {},
     "output_type": "execute_result"
    },
    {
     "data": {
      "image/png": "[encoded data removed]",
      "text/plain": [
       "<matplotlib.figure.Figure at 0x1164729b0>"
      ]
     },
     "metadata": {},
     "output_type": "display_data"
    }
   ],
   "source": [
    "# make a histogram of age for each passenger class\n",
    "\n",
    "# Get passenger data for each class\n",
    "first_class_data = dropna_age_df[dropna_age_df['Pclass'] == 1]\n",
    "second_class_data = dropna_age_df[dropna_age_df['Pclass'] == 2]\n",
    "third_class_data = dropna_age_df[dropna_age_df['Pclass'] == 3]\n",
    "\n",
    "# create 3 subplots\n",
    "f, axarr = plt.subplots(3, sharex=True, figsize=(8,8))\n",
    "plt.suptitle('Histogram of age by passenger class', fontsize=16)\n",
    "\n",
    "# histogram of age for first class\n",
    "axarr[0].hist(first_class_data['Age'], bins=8)\n",
    "axarr[0].set_title('1st Class')\n",
    "axarr[0].minorticks_on()\n",
    "axarr[0].tick_params('x',length=3, which='major')\n",
    "\n",
    "# histogram of age for second class\n",
    "axarr[1].hist(second_class_data['Age'], bins=8)\n",
    "axarr[1].set_title('2nd Class')\n",
    "axarr[1].minorticks_on()\n",
    "axarr[1].tick_params('x',length=3, which='major')\n",
    "\n",
    "# histogram of age for third class\n",
    "axarr[2].hist(third_class_data['Age'], bins=8)\n",
    "axarr[2].set_title('3rd Class')\n",
    "axarr[2].minorticks_on()\n",
    "axarr[2].tick_params('x',length=3, which='major')\n",
    "axarr[2].set_xlim(0,80) # to remove the space that existed on the left of the 0 value in the x axis\n",
    "\n",
    "# locate the median of each distribution\n",
    "axarr[0].axvline(first_class_data['Age'].median(), color='yellow', linewidth=2, linestyle='dashed', alpha=0.6)\n",
    "axarr[1].axvline(second_class_data['Age'].median(), color='yellow', linewidth=2, linestyle='dashed', alpha=0.6)\n",
    "axarr[2].axvline(third_class_data['Age'].median(), color='yellow', linewidth=2, linestyle='dashed', alpha=0.6)\n",
    "\n",
    "# add legend for median\n",
    "import matplotlib.lines as mlines\n",
    "median_line = mlines.Line2D([], [], color='yellow',\n",
    "                         label='median', linestyle='dashed')\n",
    "plt.legend(handles=[median_line], frameon=True, facecolor='#3c5e96', fontsize=12, handlelength=4, framealpha=0.4)"
   ]
  },
  {
   "cell_type": "markdown",
   "metadata": {},
   "source": [
    "The oldest passenger in our dataset was 80 years old. Interesting to not that the median and average age decrease as we go from the first to the third class. This is understandable, if we assume that younger people tend to have less purchasing power or less need to travel in luxury."
   ]
  },
  {
   "cell_type": "markdown",
   "metadata": {},
   "source": [
    "### *Embark Locations*"
   ]
  },
  {
   "cell_type": "code",
   "execution_count": 18,
   "metadata": {},
   "outputs": [
    {
     "data": {
      "text/plain": [
       "<matplotlib.text.Text at 0x11403e6d8>"
      ]
     },
     "execution_count": 18,
     "metadata": {},
     "output_type": "execute_result"
    },
    {
     "data": {
      "image/png": "[encoded data removed]",
      "text/plain": [
       "<matplotlib.figure.Figure at 0x113ff1b00>"
      ]
     },
     "metadata": {},
     "output_type": "display_data"
    }
   ],
   "source": [
    "embark_locations = titanic_df.groupby('Embarked').count()['PassengerId']\n",
    "embark_locations.plot.bar(rot=0).set_ylabel('# of passengers')\n",
    "plt.title('Count of passengers embarked at each port')"
   ]
  },
  {
   "cell_type": "markdown",
   "metadata": {},
   "source": [
    "The majority of passengers embarked in Southampton, followed by Cherbourg and then Queenstown."
   ]
  },
  {
   "cell_type": "markdown",
   "metadata": {},
   "source": [
    "### *Fare distribution by class*"
   ]
  },
  {
   "cell_type": "code",
   "execution_count": 17,
   "metadata": {},
   "outputs": [
    {
     "data": {
      "text/plain": [
       "<matplotlib.text.Text at 0x116c250b8>"
      ]
     },
     "execution_count": 17,
     "metadata": {},
     "output_type": "execute_result"
    },
    {
     "data": {
      "image/png": "[encoded data removed]",
      "text/plain": [
       "<matplotlib.figure.Figure at 0x1162f20b8>"
      ]
     },
     "metadata": {},
     "output_type": "display_data"
    }
   ],
   "source": [
    "titanic_df[titanic_df['Pclass'] == 1]['FareNew'].hist(label='1st Class')\n",
    "titanic_df[titanic_df['Pclass'] == 2]['FareNew'].hist(label='2nd Class')\n",
    "titanic_df[titanic_df['Pclass'] == 3]['FareNew'].hist(label='3rd Class',alpha=0.5)\n",
    "plt.legend()\n",
    "plt.xlabel('Fare')\n",
    "plt.title('Fare distribution by Passenger Class')"
   ]
  },
  {
   "cell_type": "markdown",
   "metadata": {},
   "source": [
    "Some passengers were able to travel first class without paying a high price relative to second or third class. Therefore there were 3rd class passengers that paid a higher fare than some first class passengers. The highest fare value is 512. [Here is a Time article](http://time.com/money/4283738/titanic-most-expensive-ticket/) on what kind of luxury such a ticket would have bought on the Titanic."
   ]
  },
  {
   "cell_type": "markdown",
   "metadata": {},
   "source": [
    "### *Number of passengers per ticket*"
   ]
  },
  {
   "cell_type": "code",
   "execution_count": 18,
   "metadata": {},
   "outputs": [
    {
     "data": {
      "text/plain": [
       "<matplotlib.text.Text at 0x116df5780>"
      ]
     },
     "execution_count": 18,
     "metadata": {},
     "output_type": "execute_result"
    },
    {
     "data": {
      "image/png": "[encoded data removed]",
      "text/plain": [
       "<matplotlib.figure.Figure at 0x116877400>"
      ]
     },
     "metadata": {},
     "output_type": "display_data"
    }
   ],
   "source": [
    "# Distribution of number of passengers per ticket\n",
    "passengers_per_ticket = titanic_df.groupby('Ticket')['PassengerId'].count()\n",
    "passengers_per_ticket.hist(bins=range(1,9), align='left')\n",
    "plt.xlabel('# of passengers')\n",
    "plt.title('Tickets and number of passengers per ticket')"
   ]
  },
  {
   "cell_type": "code",
   "execution_count": 19,
   "metadata": {},
   "outputs": [
    {
     "data": {
      "text/plain": [
       "'134 tickets are \"group\" tickets'"
      ]
     },
     "execution_count": 19,
     "metadata": {},
     "output_type": "execute_result"
    }
   ],
   "source": [
    "shared_tickets = passengers_per_ticket > 1\n",
    "'{number} tickets are \"group\" tickets'.format(number=np.sum(shared_tickets))"
   ]
  },
  {
   "cell_type": "markdown",
   "metadata": {},
   "source": [
    "## 3. Hypothesis Testing"
   ]
  },
  {
   "cell_type": "markdown",
   "metadata": {},
   "source": [
    "The population is set to be all shipwrecks, past and future. The Titanic dataset, is assumed to be a sample of this fictitious population. A limitation of the dataset, is that is not known how the sample was chosen from the actual population of people that were on the Titanic. There could have been some sort of intentional or unintentional bias in how the sample was selected. This forces our conclusions about how survival and other variables are related to remain tentative. Nonetheless, statistical tests are now perfomed to demonstrate how statistical inference could be used to reach conclusions, if the sample was known to be random.\n",
    "\n",
    "#### Question: Is a passenger's probability of survival independent of sex?\n",
    "\n",
    "H<sub>0</sub>: Sex and survival are independent<br>\n",
    "H<sub>A</sub>: Sex and survival are not independent\n",
    "\n",
    "where H<sub>0</sub> is the null hypothesis and H<sub>A</sub> is the alternative hypothesis.\n",
    "\n",
    "The significance level is chosen to be 0.05. For this scenario a Chi-square test of independence is appropriate because:\n",
    "  - both variables (survival and gender) are categorical\n",
    "  - observations are independent (a passenger is either a woman or a man and either survives or dies)\n",
    "  - the expected frequency count for each cell of the contingency table is larger than 5"
   ]
  },
  {
   "cell_type": "code",
   "execution_count": 20,
   "metadata": {},
   "outputs": [
    {
     "name": "stdout",
     "output_type": "stream",
     "text": [
      "The contingency table without marginal totals:\n"
     ]
    },
    {
     "data": {
      "text/html": [
       "<div>\n",
       "<style>\n",
       "    .dataframe thead tr:only-child th {\n",
       "        text-align: right;\n",
       "    }\n",
       "\n",
       "    .dataframe thead th {\n",
       "        text-align: left;\n",
       "    }\n",
       "\n",
       "    .dataframe tbody tr th {\n",
       "        vertical-align: top;\n",
       "    }\n",
       "</style>\n",
       "<table border=\"1\" class=\"dataframe\">\n",
       "  <thead>\n",
       "    <tr style=\"text-align: right;\">\n",
       "      <th>Sex</th>\n",
       "      <th>female</th>\n",
       "      <th>male</th>\n",
       "    </tr>\n",
       "    <tr>\n",
       "      <th>Survived</th>\n",
       "      <th></th>\n",
       "      <th></th>\n",
       "    </tr>\n",
       "  </thead>\n",
       "  <tbody>\n",
       "    <tr>\n",
       "      <th>0</th>\n",
       "      <td>81</td>\n",
       "      <td>468</td>\n",
       "    </tr>\n",
       "    <tr>\n",
       "      <th>1</th>\n",
       "      <td>233</td>\n",
       "      <td>109</td>\n",
       "    </tr>\n",
       "  </tbody>\n",
       "</table>\n",
       "</div>"
      ],
      "text/plain": [
       "Sex       female  male\n",
       "Survived              \n",
       "0             81   468\n",
       "1            233   109"
      ]
     },
     "execution_count": 20,
     "metadata": {},
     "output_type": "execute_result"
    }
   ],
   "source": [
    "print('The contingency table without marginal totals:')\n",
    "survived_sex = pd.crosstab(index=titanic_df['Survived'], columns=titanic_df['Sex'])\n",
    "survived_sex"
   ]
  },
  {
   "cell_type": "code",
   "execution_count": 21,
   "metadata": {},
   "outputs": [
    {
     "data": {
      "text/plain": [
       "(260.71702016732104,\n",
       " 1.1973570627755645e-58,\n",
       " 1,\n",
       " array([[ 193.47474747,  355.52525253],\n",
       "        [ 120.52525253,  221.47474747]]))"
      ]
     },
     "execution_count": 21,
     "metadata": {},
     "output_type": "execute_result"
    }
   ],
   "source": [
    "from scipy import stats\n",
    "\n",
    "# return in the following order: the test statistic, p-value of the test, degrees of freedom, expected frequencies\n",
    "stats.chi2_contingency(survived_sex)"
   ]
  },
  {
   "cell_type": "markdown",
   "metadata": {},
   "source": [
    "The chi-square value ( $\\chi^2$ = 260.72) is the Yates chi-square, corrected for continuity. Its p-value is < 0.05 and therefore we reject the null hypothesis and conclude that women are more likely to survive a shipwreck."
   ]
  },
  {
   "cell_type": "markdown",
   "metadata": {},
   "source": [
    "#### Question: Is a passenger's probability of survival independent of class?\n",
    "\n",
    "H<sub>0</sub>: Class and survival are independent<br>\n",
    "H<sub>A</sub>: Class and survival are not independent\n",
    "    \n",
    "The conditions are the same as in the previous test and therefore a Chi-square test of independence is appropriate."
   ]
  },
  {
   "cell_type": "code",
   "execution_count": 22,
   "metadata": {},
   "outputs": [
    {
     "name": "stdout",
     "output_type": "stream",
     "text": [
      "The contingency table without marginal totals:\n"
     ]
    },
    {
     "data": {
      "text/html": [
       "<div>\n",
       "<style>\n",
       "    .dataframe thead tr:only-child th {\n",
       "        text-align: right;\n",
       "    }\n",
       "\n",
       "    .dataframe thead th {\n",
       "        text-align: left;\n",
       "    }\n",
       "\n",
       "    .dataframe tbody tr th {\n",
       "        vertical-align: top;\n",
       "    }\n",
       "</style>\n",
       "<table border=\"1\" class=\"dataframe\">\n",
       "  <thead>\n",
       "    <tr style=\"text-align: right;\">\n",
       "      <th>Pclass</th>\n",
       "      <th>1</th>\n",
       "      <th>2</th>\n",
       "      <th>3</th>\n",
       "    </tr>\n",
       "    <tr>\n",
       "      <th>Survived</th>\n",
       "      <th></th>\n",
       "      <th></th>\n",
       "      <th></th>\n",
       "    </tr>\n",
       "  </thead>\n",
       "  <tbody>\n",
       "    <tr>\n",
       "      <th>0</th>\n",
       "      <td>80</td>\n",
       "      <td>97</td>\n",
       "      <td>372</td>\n",
       "    </tr>\n",
       "    <tr>\n",
       "      <th>1</th>\n",
       "      <td>136</td>\n",
       "      <td>87</td>\n",
       "      <td>119</td>\n",
       "    </tr>\n",
       "  </tbody>\n",
       "</table>\n",
       "</div>"
      ],
      "text/plain": [
       "Pclass      1   2    3\n",
       "Survived              \n",
       "0          80  97  372\n",
       "1         136  87  119"
      ]
     },
     "execution_count": 22,
     "metadata": {},
     "output_type": "execute_result"
    }
   ],
   "source": [
    "print('The contingency table without marginal totals:')\n",
    "survived_class = pd.crosstab(index=titanic_df['Survived'], columns=titanic_df['Pclass'])\n",
    "survived_class"
   ]
  },
  {
   "cell_type": "code",
   "execution_count": 23,
   "metadata": {},
   "outputs": [
    {
     "data": {
      "text/plain": [
       "(102.88898875696056,\n",
       " 4.5492517112987927e-23,\n",
       " 2,\n",
       " array([[ 133.09090909,  113.37373737,  302.53535354],\n",
       "        [  82.90909091,   70.62626263,  188.46464646]]))"
      ]
     },
     "execution_count": 23,
     "metadata": {},
     "output_type": "execute_result"
    }
   ],
   "source": [
    "# return in the following order: the test statistic, p-value of the test, degrees of freedom, expected frequencies\n",
    "stats.chi2_contingency(survived_class)"
   ]
  },
  {
   "cell_type": "markdown",
   "metadata": {},
   "source": [
    "Since the p-value of the test-statistic is lower than the significance value (0.05) \n",
    "we reject the null hypothesis and conclude that passengers in first class are more likely to survive than passengers in the second and third classes."
   ]
  },
  {
   "cell_type": "markdown",
   "metadata": {},
   "source": [
    "## Conclusion\n",
    "\n",
    "To conclude it is helpful to look back at the goals of the project:\n",
    "\n",
    "1\\. *Determine which factors made Titanic passengers more likely to survive*\n",
    "\n",
    "The analysis performed only determines which factors made passengers **in the dataset** more likely to survive, and therefore any conclusion about the population of all Titanic passengers is just tentative.\n",
    "\n",
    "The relation between survival and other variables was analyzed and for each variable differences in survival rate between passenger groups were found. The most significant differences observed were: female passengers survived at a much higher rate than male ones and that first class passengers survived at a much higher rate than third class passengers. \n",
    "\n",
    "To achieve goal 1, the analysis would need to be repeated using the full Titanic dataset or using a random sample and with it do statistical inference.\n",
    "\n",
    "2\\. *Provide an overview of the demographics of the passengers in the dataset*\n",
    "\n",
    "This was accomplished by analyzing the number of passengers by sex, class, age group and embark location. Additionaly, fare distribution by class and number of passengers per ticket were also observed.\n",
    "\n",
    "3\\. *Draw conclusions about the relationships between passenger sex, class and the likelihood of surviving a shipwreck*\n",
    "\n",
    "Two tentative conclusions can be put forward regarding survival outcome in case of a shipwreck: (i) women are more likely to survive a shipwreck and (ii) passengers in first class are more likely to survive than passengers in the second and third classes. Without knowing if our sample is random, these conclusions must remain tentative.\n",
    "\n",
    "Future work to achieve the goal includes using the full Titanic dataset or a sample of it that is confirmed to be random. Potential areas to explore that would improve the analysis are obtaining datasets of other shipwrecks, calculating effect sizes and performing statistical tests for the relation between survival and the variables other than sex and class."
   ]
  },
  {
   "cell_type": "markdown",
   "metadata": {},
   "source": [
    "---"
   ]
  },
  {
   "cell_type": "markdown",
   "metadata": {},
   "source": [
    "Footnote:<br>\n",
    "1 https://www.encyclopedia-titanica.org<p>\n",
    "\n",
    "Other links in the notebook:<br>\n",
    "https://www.udacity.com/course/data-analyst-nanodegree--nd002<br>\n",
    "https://www.kaggle.com/c/titanic/data<br>\n",
    "http://time.com/money/4283738/titanic-most-expensive-ticket/"
   ]
  }
 ],
 "metadata": {
  "kernelspec": {
   "display_name": "Python 3",
   "language": "python",
   "name": "python3"
  },
  "language_info": {
   "codemirror_mode": {
    "name": "ipython",
    "version": 3
   },
   "file_extension": ".py",
   "mimetype": "text/x-python",
   "name": "python",
   "nbconvert_exporter": "python",
   "pygments_lexer": "ipython3",
   "version": "3.6.1"
  }
 },
 "nbformat": 4,
 "nbformat_minor": 2
}
